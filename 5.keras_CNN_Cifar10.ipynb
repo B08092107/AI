{
  "nbformat": 4,
  "nbformat_minor": 0,
  "metadata": {
    "colab": {
      "name": "Untitled19.ipynb",
      "provenance": [],
      "authorship_tag": "ABX9TyOxGHtdvBv24O+LqfBsom1B",
      "include_colab_link": true
    },
    "kernelspec": {
      "name": "python3",
      "display_name": "Python 3"
    },
    "language_info": {
      "name": "python"
    }
  },
  "cells": [
    {
      "cell_type": "markdown",
      "metadata": {
        "id": "view-in-github",
        "colab_type": "text"
      },
      "source": [
        "<a href=\"https://colab.research.google.com/github/B08092107/AI/blob/main/5.keras_CNN_Cifar10.ipynb\" target=\"_parent\"><img src=\"https://colab.research.google.com/assets/colab-badge.svg\" alt=\"Open In Colab\"/></a>"
      ]
    },
    {
      "cell_type": "code",
      "execution_count": 1,
      "metadata": {
        "colab": {
          "base_uri": "https://localhost:8080/"
        },
        "id": "fyUwzYeSW0fn",
        "outputId": "6a752600-9e93-4373-e62d-5908102cbf3c"
      },
      "outputs": [
        {
          "output_type": "stream",
          "name": "stdout",
          "text": [
            "Model: \"sequential\"\n",
            "_________________________________________________________________\n",
            " Layer (type)                Output Shape              Param #   \n",
            "=================================================================\n",
            " conv2d (Conv2D)             (None, 28, 28, 64)        4864      \n",
            "                                                                 \n",
            " conv2d_1 (Conv2D)           (None, 24, 24, 64)        102464    \n",
            "                                                                 \n",
            " max_pooling2d (MaxPooling2D  (None, 12, 12, 64)       0         \n",
            " )                                                               \n",
            "                                                                 \n",
            " conv2d_2 (Conv2D)           (None, 8, 8, 128)         204928    \n",
            "                                                                 \n",
            " conv2d_3 (Conv2D)           (None, 4, 4, 128)         409728    \n",
            "                                                                 \n",
            " max_pooling2d_1 (MaxPooling  (None, 2, 2, 128)        0         \n",
            " 2D)                                                             \n",
            "                                                                 \n",
            " flatten (Flatten)           (None, 512)               0         \n",
            "                                                                 \n",
            " dense (Dense)               (None, 10)                5130      \n",
            "                                                                 \n",
            "=================================================================\n",
            "Total params: 727,114\n",
            "Trainable params: 727,114\n",
            "Non-trainable params: 0\n",
            "_________________________________________________________________\n"
          ]
        }
      ],
      "source": [
        "from tensorflow import keras\n",
        "from keras.models import Sequential\n",
        "from keras.layers import Dense, Conv2D, MaxPooling2D, Flatten\n",
        "model=Sequential()\n",
        "model.add(Conv2D(filters=64, kernel_size=(5, 5), input_shape=(32, 32, 3), activation='relu'))\n",
        "model.add(Conv2D(filters=64, kernel_size=(5, 5), activation='relu'))\n",
        "model.add(MaxPooling2D(pool_size=2))\n",
        "model.add(Conv2D(filters=128, kernel_size=(5, 5), activation='relu'))\n",
        "model.add(Conv2D(filters=128, kernel_size=(5, 5), activation='relu'))\n",
        "model.add(MaxPooling2D(pool_size=2))\n",
        "model.add(Flatten())\n",
        "model.add(Dense(10, activation='softmax'))\n",
        "model.summary()\n",
        "model.compile(optimizer='rmsprop', loss='categorical_crossentropy', metrics=['accuracy'])"
      ]
    },
    {
      "cell_type": "code",
      "source": [
        "cifar10=keras.datasets.cifar10\n",
        "(train_data, train_label), (test_data, test_label) = cifar10.load_data()\n",
        "train_label_original=train_label\n",
        "train_label = keras.utils.to_categorical(train_label)\n",
        "test_label = keras.utils.to_categorical(test_label)"
      ],
      "metadata": {
        "colab": {
          "base_uri": "https://localhost:8080/"
        },
        "id": "9qARLa18W-ab",
        "outputId": "c3740115-7be7-4901-b84b-bd1f0f1adb6f"
      },
      "execution_count": 2,
      "outputs": [
        {
          "output_type": "stream",
          "name": "stdout",
          "text": [
            "Downloading data from https://www.cs.toronto.edu/~kriz/cifar-10-python.tar.gz\n",
            "170500096/170498071 [==============================] - 5s 0us/step\n",
            "170508288/170498071 [==============================] - 5s 0us/step\n"
          ]
        }
      ]
    },
    {
      "cell_type": "code",
      "source": [
        "import matplotlib.pyplot as plt\n",
        "category=['airplane','automobile','bird','cat','deer','dog','frog','horse','ship','truck'] #圖片 飛機 鳥 貓 狗 青蛙\n",
        "plt.imshow(train_data[0])\n",
        "plt.title(category[int(train_label_original[0])])\n",
        "plt.show()\n",
        "print(train_label_original[0])"
      ],
      "metadata": {
        "colab": {
          "base_uri": "https://localhost:8080/",
          "height": 299
        },
        "id": "jInlVMWRXBxH",
        "outputId": "d3e67e35-a2ba-4156-99d3-14ef7960ab26"
      },
      "execution_count": 3,
      "outputs": [
        {
          "output_type": "display_data",
          "data": {
            "text/plain": [
              "<Figure size 432x288 with 1 Axes>"
            ],
            "image/png": "[encoded data removed]"
          },
          "metadata": {
            "needs_background": "light"
          }
        },
        {
          "output_type": "stream",
          "name": "stdout",
          "text": [
            "[6]\n"
          ]
        }
      ]
    },
    {
      "cell_type": "code",
      "source": [
        "train_history=model.fit(train_data,train_label,epochs=30,batch_size=512)"
      ],
      "metadata": {
        "colab": {
          "base_uri": "https://localhost:8080/"
        },
        "id": "t-CyPHfuXFok",
        "outputId": "5b3757e6-ff67-4445-ba6f-b7b31c0aec5a"
      },
      "execution_count": 4,
      "outputs": [
        {
          "output_type": "stream",
          "name": "stdout",
          "text": [
            "Epoch 1/30\n",
            "98/98 [==============================] - 640s 7s/step - loss: 16.2271 - accuracy: 0.1371\n",
            "Epoch 2/30\n",
            "98/98 [==============================] - 633s 6s/step - loss: 2.4332 - accuracy: 0.1740\n",
            "Epoch 3/30\n",
            "98/98 [==============================] - 632s 6s/step - loss: 2.1720 - accuracy: 0.2810\n",
            "Epoch 4/30\n",
            "98/98 [==============================] - 633s 6s/step - loss: 1.9744 - accuracy: 0.3202\n",
            "Epoch 5/30\n",
            "98/98 [==============================] - 632s 6s/step - loss: 1.6843 - accuracy: 0.4170\n",
            "Epoch 6/30\n",
            "98/98 [==============================] - 635s 6s/step - loss: 1.5384 - accuracy: 0.4709\n",
            "Epoch 7/30\n",
            "98/98 [==============================] - 635s 6s/step - loss: 1.3778 - accuracy: 0.5239\n",
            "Epoch 8/30\n",
            "98/98 [==============================] - 642s 7s/step - loss: 1.2502 - accuracy: 0.5727\n",
            "Epoch 9/30\n",
            "98/98 [==============================] - 638s 7s/step - loss: 1.1054 - accuracy: 0.6223\n",
            "Epoch 10/30\n",
            "98/98 [==============================] - 639s 7s/step - loss: 0.9749 - accuracy: 0.6670\n",
            "Epoch 11/30\n",
            "98/98 [==============================] - 639s 7s/step - loss: 0.8568 - accuracy: 0.7067\n",
            "Epoch 12/30\n",
            "98/98 [==============================] - 640s 7s/step - loss: 0.7498 - accuracy: 0.7471\n",
            "Epoch 13/30\n",
            "98/98 [==============================] - 641s 7s/step - loss: 0.6418 - accuracy: 0.7824\n",
            "Epoch 14/30\n",
            "98/98 [==============================] - 645s 7s/step - loss: 0.5356 - accuracy: 0.8185\n",
            "Epoch 15/30\n",
            "98/98 [==============================] - 649s 7s/step - loss: 0.4812 - accuracy: 0.8404\n",
            "Epoch 16/30\n",
            "98/98 [==============================] - 653s 7s/step - loss: 0.4033 - accuracy: 0.8657\n",
            "Epoch 17/30\n",
            "98/98 [==============================] - 654s 7s/step - loss: 0.3588 - accuracy: 0.8822\n",
            "Epoch 18/30\n",
            "98/98 [==============================] - 646s 7s/step - loss: 0.3230 - accuracy: 0.8967\n",
            "Epoch 19/30\n",
            "98/98 [==============================] - 644s 7s/step - loss: 0.2899 - accuracy: 0.9090\n",
            "Epoch 20/30\n",
            "98/98 [==============================] - 634s 6s/step - loss: 0.2847 - accuracy: 0.9110\n",
            "Epoch 21/30\n",
            "98/98 [==============================] - 625s 6s/step - loss: 0.2474 - accuracy: 0.9248\n",
            "Epoch 22/30\n",
            "98/98 [==============================] - 625s 6s/step - loss: 0.2465 - accuracy: 0.9243\n",
            "Epoch 23/30\n",
            "98/98 [==============================] - 623s 6s/step - loss: 0.2187 - accuracy: 0.9321\n",
            "Epoch 24/30\n",
            "98/98 [==============================] - 628s 6s/step - loss: 0.2140 - accuracy: 0.9344\n",
            "Epoch 25/30\n",
            "98/98 [==============================] - 626s 6s/step - loss: 0.2141 - accuracy: 0.9402\n",
            "Epoch 26/30\n",
            "98/98 [==============================] - 626s 6s/step - loss: 0.2055 - accuracy: 0.9385\n",
            "Epoch 27/30\n",
            "98/98 [==============================] - 626s 6s/step - loss: 0.2062 - accuracy: 0.9423\n",
            "Epoch 28/30\n",
            "98/98 [==============================] - 627s 6s/step - loss: 0.2101 - accuracy: 0.9431\n",
            "Epoch 29/30\n",
            "98/98 [==============================] - 628s 6s/step - loss: 0.2035 - accuracy: 0.9442\n",
            "Epoch 30/30\n",
            "98/98 [==============================] - 628s 6s/step - loss: 0.1893 - accuracy: 0.9487\n"
          ]
        }
      ]
    },
    {
      "cell_type": "code",
      "source": [
        "score=model.evaluate(test_data, test_label)\n",
        "print(score[1])"
      ],
      "metadata": {
        "colab": {
          "base_uri": "https://localhost:8080/"
        },
        "id": "m_jCzh4Zgek1",
        "outputId": "296f1d37-63e2-4aba-8484-0bca3653652c"
      },
      "execution_count": 5,
      "outputs": [
        {
          "output_type": "stream",
          "name": "stdout",
          "text": [
            "313/313 [==============================] - 33s 103ms/step - loss: 3.7757 - accuracy: 0.5830\n",
            "0.5830000042915344\n"
          ]
        }
      ]
    },
    {
      "cell_type": "code",
      "source": [
        "#繪製正確性與損失歷史圖\n",
        "import matplotlib.pyplot as plt\n",
        "import numpy as np\n",
        "\n",
        "def show_train_history(train_history, train):\n",
        "    plt.plot(train_history.history[train])\n",
        "    plt.title('Train History')\n",
        "    plt.ylabel(train)\n",
        "    plt.xlabel('Epoch')\n",
        "    plt.legend(['train'], loc='center right')\n",
        "    plt.show()\n",
        "\n",
        "show_train_history(train_history, 'accuracy')\n",
        "show_train_history(train_history, 'loss')"
      ],
      "metadata": {
        "colab": {
          "base_uri": "https://localhost:8080/",
          "height": 573
        },
        "id": "_xDLA47hgoE3",
        "outputId": "512a9b14-f92b-43e2-e9c3-43bf1aa1a1d9"
      },
      "execution_count": 7,
      "outputs": [
        {
          "output_type": "display_data",
          "data": {
            "text/plain": [
              "<Figure size 432x288 with 1 Axes>"
            ],
            "image/png": "[encoded data removed]"
          },
          "metadata": {
            "needs_background": "light"
          }
        },
        {
          "output_type": "display_data",
          "data": {
            "text/plain": [
              "<Figure size 432x288 with 1 Axes>"
            ],
            "image/png": "[encoded data removed]"
          },
          "metadata": {
            "needs_background": "light"
          }
        }
      ]
    }
  ]
}