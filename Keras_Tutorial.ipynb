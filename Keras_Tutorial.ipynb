{
  "nbformat": 4,
  "nbformat_minor": 0,
  "metadata": {
    "colab": {
      "name": "Untitled7.ipynb",
      "provenance": [],
      "authorship_tag": "ABX9TyOl1z83o6eLN//wTsH2AtEx",
      "include_colab_link": true
    },
    "kernelspec": {
      "name": "python3",
      "display_name": "Python 3"
    },
    "language_info": {
      "name": "python"
    }
  },
  "cells": [
    {
      "cell_type": "markdown",
      "metadata": {
        "id": "view-in-github",
        "colab_type": "text"
      },
      "source": [
        "<a href=\"https://colab.research.google.com/github/B08092107/AI/blob/main/Keras_Tutorial.ipynb\" target=\"_parent\"><img src=\"https://colab.research.google.com/assets/colab-badge.svg\" alt=\"Open In Colab\"/></a>"
      ]
    },
    {
      "cell_type": "code",
      "execution_count": 1,
      "metadata": {
        "colab": {
          "base_uri": "https://localhost:8080/"
        },
        "id": "AnS7-etJiDZ4",
        "outputId": "91677c34-fbec-4cdc-bba4-b8a6dd8542cb"
      },
      "outputs": [
        {
          "output_type": "stream",
          "name": "stdout",
          "text": [
            "(1000, 10)\n",
            "[0.04146856 0.94798572 0.59662951 0.19237502 0.03444335 0.8717571\n",
            " 0.5659482  0.3555701  0.06785644 0.55500478]\n",
            "(1000, 1)\n",
            "[1]\n",
            "Epoch 1/10\n",
            "32/32 [==============================] - 2s 4ms/step - loss: 0.6942 - accuracy: 0.5230\n",
            "Epoch 2/10\n",
            "32/32 [==============================] - 0s 5ms/step - loss: 0.6908 - accuracy: 0.5370\n",
            "Epoch 3/10\n",
            "32/32 [==============================] - 0s 6ms/step - loss: 0.6884 - accuracy: 0.5360\n",
            "Epoch 4/10\n",
            "32/32 [==============================] - 0s 5ms/step - loss: 0.6882 - accuracy: 0.5280\n",
            "Epoch 5/10\n",
            "32/32 [==============================] - 0s 4ms/step - loss: 0.6873 - accuracy: 0.5360\n",
            "Epoch 6/10\n",
            "32/32 [==============================] - 0s 6ms/step - loss: 0.6860 - accuracy: 0.5400\n",
            "Epoch 7/10\n",
            "32/32 [==============================] - 0s 8ms/step - loss: 0.6850 - accuracy: 0.5490\n",
            "Epoch 8/10\n",
            "32/32 [==============================] - 0s 6ms/step - loss: 0.6845 - accuracy: 0.5560\n",
            "Epoch 9/10\n",
            "32/32 [==============================] - 0s 5ms/step - loss: 0.6843 - accuracy: 0.5400\n",
            "Epoch 10/10\n",
            "32/32 [==============================] - 0s 6ms/step - loss: 0.6829 - accuracy: 0.5520\n",
            "32/32 [==============================] - 0s 3ms/step - loss: 0.6834 - accuracy: 0.5630\n",
            "0.5630000233650208\n"
          ]
        }
      ],
      "source": [
        "from tensorflow import keras\n",
        "from keras.models import Sequential\n",
        "from keras.layers import Dense\n",
        "\n",
        "import numpy as np\n",
        "data = np.random.random((1000, 10)) #隨機產生1000筆資料，每筆資料包含十個float數字\n",
        "labels = np.random.randint(2, size=(1000, 1)) #隨機產生1000筆資料，每筆資料上限為2(意思就是0 或 1)\n",
        "print(np.shape(data))\n",
        "print(data[0])\n",
        "print(np.shape(labels))\n",
        "print(labels[0])\n",
        "\n",
        "model = Sequential()\n",
        "model.add(Dense(32, activation='relu', input_dim=10)) #產生線性整流函式\n",
        "model.add(Dense(1, activation='sigmoid')) #產生S型函數\n",
        "model.compile(optimizer='rmsprop', loss='binary_crossentropy', metrics=['accuracy'])\n",
        "\n",
        "model.fit(data, labels, epochs=10, batch_size=32)\n",
        "\n",
        "score=model.evaluate(data, labels)\n",
        "print(score[1])"
      ]
    }
  ]
}