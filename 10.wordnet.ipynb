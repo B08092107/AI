{
  "nbformat": 4,
  "nbformat_minor": 0,
  "metadata": {
    "colab": {
      "name": "Untitled9.ipynb",
      "provenance": [],
      "toc_visible": true,
      "authorship_tag": "ABX9TyMAXMZ4zcRLs7wOKBECNM/b",
      "include_colab_link": true
    },
    "kernelspec": {
      "name": "python3",
      "display_name": "Python 3"
    },
    "language_info": {
      "name": "python"
    }
  },
  "cells": [
    {
      "cell_type": "markdown",
      "metadata": {
        "id": "view-in-github",
        "colab_type": "text"
      },
      "source": [
        "<a href=\"https://colab.research.google.com/github/B08092107/AI/blob/main/10.wordnet.ipynb\" target=\"_parent\"><img src=\"https://colab.research.google.com/assets/colab-badge.svg\" alt=\"Open In Colab\"/></a>"
      ]
    },
    {
      "cell_type": "code",
      "execution_count": 5,
      "metadata": {
        "colab": {
          "base_uri": "https://localhost:8080/"
        },
        "id": "SO8Q46zbj_5s",
        "outputId": "dd5409b4-d204-4700-d90d-ab704a344dd7"
      },
      "outputs": [
        {
          "output_type": "stream",
          "name": "stdout",
          "text": [
            "Requirement already satisfied: CwnGraph in /usr/local/lib/python3.7/dist-packages (0.2.0)\n",
            "Requirement already satisfied: gdown in /usr/local/lib/python3.7/dist-packages (from CwnGraph) (4.4.0)\n",
            "Requirement already satisfied: tqdm in /usr/local/lib/python3.7/dist-packages (from gdown->CwnGraph) (4.64.0)\n",
            "Requirement already satisfied: six in /usr/local/lib/python3.7/dist-packages (from gdown->CwnGraph) (1.15.0)\n",
            "Requirement already satisfied: requests[socks] in /usr/local/lib/python3.7/dist-packages (from gdown->CwnGraph) (2.23.0)\n",
            "Requirement already satisfied: filelock in /usr/local/lib/python3.7/dist-packages (from gdown->CwnGraph) (3.6.0)\n",
            "Requirement already satisfied: beautifulsoup4 in /usr/local/lib/python3.7/dist-packages (from gdown->CwnGraph) (4.6.3)\n",
            "Requirement already satisfied: chardet<4,>=3.0.2 in /usr/local/lib/python3.7/dist-packages (from requests[socks]->gdown->CwnGraph) (3.0.4)\n",
            "Requirement already satisfied: certifi>=2017.4.17 in /usr/local/lib/python3.7/dist-packages (from requests[socks]->gdown->CwnGraph) (2021.10.8)\n",
            "Requirement already satisfied: idna<3,>=2.5 in /usr/local/lib/python3.7/dist-packages (from requests[socks]->gdown->CwnGraph) (2.10)\n",
            "Requirement already satisfied: urllib3!=1.25.0,!=1.25.1,<1.26,>=1.21.1 in /usr/local/lib/python3.7/dist-packages (from requests[socks]->gdown->CwnGraph) (1.24.3)\n",
            "Requirement already satisfied: PySocks!=1.5.7,>=1.5.6 in /usr/local/lib/python3.7/dist-packages (from requests[socks]->gdown->CwnGraph) (1.7.1)\n"
          ]
        }
      ],
      "source": [
        "pip install CwnGraph #下載cwn_graph"
      ]
    },
    {
      "cell_type": "code",
      "source": [
        "from pprint import pprint\n",
        "from CwnGraph import CwnBase\n",
        "CwnBase.install_cwn(\"cwn_graph.pyobj\")#上傳cwn_graph"
      ],
      "metadata": {
        "colab": {
          "base_uri": "https://localhost:8080/"
        },
        "id": "7Zzq9gnskhS9",
        "outputId": "b3b2dc0a-a6e5-4c14-af20-ea2974f57ad6"
      },
      "execution_count": 6,
      "outputs": [
        {
          "output_type": "stream",
          "name": "stdout",
          "text": [
            "CWN data installed\n"
          ]
        }
      ]
    },
    {
      "cell_type": "code",
      "source": [
        "from CwnGraph import CwnBase #尋找中文詞彙\n",
        "cwn = CwnBase()"
      ],
      "metadata": {
        "id": "s0foeWtikmnl"
      },
      "execution_count": 7,
      "outputs": []
    },
    {
      "cell_type": "code",
      "source": [
        "lemmas = cwn.find_lemma(\"頭\")#有關頭的解說\n",
        "lemmas"
      ],
      "metadata": {
        "colab": {
          "base_uri": "https://localhost:8080/"
        },
        "id": "tGOrFxkZkpFU",
        "outputId": "e4c31b78-e1e6-4cec-f560-89d4e5d1a965"
      },
      "execution_count": 8,
      "outputs": [
        {
          "output_type": "execute_result",
          "data": {
            "text/plain": [
              "[<CwnLemma: 罐頭_1>,\n",
              " <CwnLemma: 年頭_1>,\n",
              " <CwnLemma: 山頭_1>,\n",
              " <CwnLemma: 頭_1>,\n",
              " <CwnLemma: 頭疼_1>,\n",
              " <CwnLemma: 從頭_1>,\n",
              " <CwnLemma: 龍頭_1>,\n",
              " <CwnLemma: 口頭_1>,\n",
              " <CwnLemma: 出頭_1>,\n",
              " <CwnLemma: 斷頭_1>,\n",
              " <CwnLemma: 分頭_1>,\n",
              " <CwnLemma: 回頭_1>,\n",
              " <CwnLemma: 磕頭_1>,\n",
              " <CwnLemma: 頭號_1>,\n",
              " <CwnLemma: 頭部_1>,\n",
              " <CwnLemma: 點頭_1>,\n",
              " <CwnLemma: 抬頭_1>,\n",
              " <CwnLemma: 街頭_1>,\n",
              " <CwnLemma: 裡頭_1>,\n",
              " <CwnLemma: 源頭_1>,\n",
              " <CwnLemma: 頭家_1>,\n",
              " <CwnLemma: 工頭_1>,\n",
              " <CwnLemma: 大舌頭_1>,\n",
              " <CwnLemma: 老頭_1>,\n",
              " <CwnLemma: 老頭子_1>,\n",
              " <CwnLemma: 花頭_1>,\n",
              " <CwnLemma: 白頭翁_1>,\n",
              " <CwnLemma: 頭彩_1>,\n",
              " <CwnLemma: 人頭稅_1>,\n",
              " <CwnLemma: 戶頭_1>,\n",
              " <CwnLemma: 頭癬_1>,\n",
              " <CwnLemma: 木頭_1>,\n",
              " <CwnLemma: 領頭_1>,\n",
              " <CwnLemma: 頭錘_1>,\n",
              " <CwnLemma: 零頭_1>,\n",
              " <CwnLemma: 接頭_1>,\n",
              " <CwnLemma: 頭狀_1>,\n",
              " <CwnLemma: 白頭鷹_1>,\n",
              " <CwnLemma: 貓頭鷹_1>,\n",
              " <CwnLemma: 頭蝨_1>,\n",
              " <CwnLemma: 奶頭_1>,\n",
              " <CwnLemma: 頭髮_1>,\n",
              " <CwnLemma: 平頭_1>,\n",
              " <CwnLemma: 舌頭_1>,\n",
              " <CwnLemma: 龜頭_1>,\n",
              " <CwnLemma: 人頭_1>,\n",
              " <CwnLemma: 頭頂_1>,\n",
              " <CwnLemma: 頭皮_1>,\n",
              " <CwnLemma: 頭蓋_1>,\n",
              " <CwnLemma: 拳頭_1>,\n",
              " <CwnLemma: 雙頭肌_1>,\n",
              " <CwnLemma: 額頭_1>,\n",
              " <CwnLemma: 念頭_1>,\n",
              " <CwnLemma: 頭條_1>,\n",
              " <CwnLemma: 開頭_1>,\n",
              " <CwnLemma: 叩頭_1>,\n",
              " <CwnLemma: 芋頭_1>,\n",
              " <CwnLemma: 橋頭堡_1>,\n",
              " <CwnLemma: 盡頭_1>,\n",
              " <CwnLemma: 石頭_1>,\n",
              " <CwnLemma: 露頭_1>,\n",
              " <CwnLemma: 頭皮屑_1>,\n",
              " <CwnLemma: 兩頭蛇_1>,\n",
              " <CwnLemma: 空頭_1>,\n",
              " <CwnLemma: 頭重腳輕_1>,\n",
              " <CwnLemma: 箭頭_1>,\n",
              " <CwnLemma: 斧頭_1>,\n",
              " <CwnLemma: 鑽頭_1>,\n",
              " <CwnLemma: 船頭_1>,\n",
              " <CwnLemma: 頭巾_1>,\n",
              " <CwnLemma: 虎頭蛇尾_1>,\n",
              " <CwnLemma: 鏡頭_1>,\n",
              " <CwnLemma: 柱頭_1>,\n",
              " <CwnLemma: 頭暈目眩_1>,\n",
              " <CwnLemma: 煙頭_1>,\n",
              " <CwnLemma: 滑頭_1>,\n",
              " <CwnLemma: 寡頭政治_1>,\n",
              " <CwnLemma: 頭銜_1>,\n",
              " <CwnLemma: 頭蓋骨_1>,\n",
              " <CwnLemma: 乳頭狀_1>,\n",
              " <CwnLemma: 喉頭_1>,\n",
              " <CwnLemma: 水龍頭_1>,\n",
              " <CwnLemma: 大頭_1>,\n",
              " <CwnLemma: 頭等艙_1>,\n",
              " <CwnLemma: 斷頭台_1>,\n",
              " <CwnLemma: 行頭_1>,\n",
              " <CwnLemma: 頭盔_1>,\n",
              " <CwnLemma: 頭像_1>,\n",
              " <CwnLemma: 鋤頭_1>,\n",
              " <CwnLemma: 頭罩_1>,\n",
              " <CwnLemma: 火車頭_1>,\n",
              " <CwnLemma: 磁頭_1>,\n",
              " <CwnLemma: 碼頭_1>,\n",
              " <CwnLemma: 尖頭_1>,\n",
              " <CwnLemma: 枕頭_1>,\n",
              " <CwnLemma: 針頭_1>,\n",
              " <CwnLemma: 插頭_1>,\n",
              " <CwnLemma: 店頭_1>,\n",
              " <CwnLemma: 噴頭_1>,\n",
              " <CwnLemma: 蓮蓬頭_1>,\n",
              " <CwnLemma: 矛頭_1>,\n",
              " <CwnLemma: 大頭釘_1>,\n",
              " <CwnLemma: 頭飾_1>,\n",
              " <CwnLemma: 三頭馬車_1>,\n",
              " <CwnLemma: 彈頭_1>,\n",
              " <CwnLemma: 皺眉頭_1>,\n",
              " <CwnLemma: 從頭到尾_1>,\n",
              " <CwnLemma: 頭昏眼花_1>,\n",
              " <CwnLemma: 賊頭賊腦_1>,\n",
              " <CwnLemma: 砍頭_1>,\n",
              " <CwnLemma: 起頭_1>,\n",
              " <CwnLemma: 梳頭_1>,\n",
              " <CwnLemma: 禿頭_1>,\n",
              " <CwnLemma: 搖頭_1>,\n",
              " <CwnLemma: 掉頭_1>,\n",
              " <CwnLemma: 垂頭喪氣_1>,\n",
              " <CwnLemma: 頭等_1>,\n",
              " <CwnLemma: 噱頭_1>,\n",
              " <CwnLemma: 鐘頭_1>,\n",
              " <CwnLemma: 骨頭_1>,\n",
              " <CwnLemma: 後頭_1>,\n",
              " <CwnLemma: 裏頭_1>,\n",
              " <CwnLemma: 饅頭_1>,\n",
              " <CwnLemma: 前頭_1>,\n",
              " <CwnLemma: 上頭_1>,\n",
              " <CwnLemma: 手指頭_1>,\n",
              " <CwnLemma: 頭痛_1>,\n",
              " <CwnLemma: 外頭_1>,\n",
              " <CwnLemma: 到頭來_1>,\n",
              " <CwnLemma: 關頭_1>,\n",
              " <CwnLemma: 老頭兒_1>,\n",
              " <CwnLemma: 眉頭_1>,\n",
              " <CwnLemma: 派頭_1>,\n",
              " <CwnLemma: 頭腦_1>,\n",
              " <CwnLemma: 指頭_1>,\n",
              " <CwnLemma: 開頭兒_1>]"
            ]
          },
          "metadata": {},
          "execution_count": 8
        }
      ]
    }
  ]
}